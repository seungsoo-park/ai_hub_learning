{
 "cells": [
  {
   "cell_type": "code",
   "execution_count": 2,
   "metadata": {},
   "outputs": [],
   "source": [
    "from ultralytics import YOLO\n",
    "import cv2\n",
    "from tqdm import tqdm"
   ]
  },
  {
   "cell_type": "code",
   "execution_count": 4,
   "metadata": {},
   "outputs": [
    {
     "name": "stderr",
     "output_type": "stream",
     "text": [
      "Processing frames: 100%|██████████| 48806/48806 [14:55<00:00, 54.47it/s]"
     ]
    },
    {
     "name": "stdout",
     "output_type": "stream",
     "text": [
      "113\n"
     ]
    },
    {
     "name": "stderr",
     "output_type": "stream",
     "text": [
      "\n"
     ]
    }
   ],
   "source": [
    "# Load the YOLOv8 model\n",
    "model = YOLO(\"/home/work/road_mark/ai_hub_learning/pothole_detection_result/train_img_10000_epech_100_batch_64/weights/best.pt\")\n",
    "\n",
    "# Open the video file\n",
    "video_path = \"./test_data/bus_single.mp4\"\n",
    "cap = cv2.VideoCapture(video_path)\n",
    "frame_count = 0\n",
    "detected_frame_count = 0\n",
    "total_frames = int(cap.get(cv2.CAP_PROP_FRAME_COUNT))\n",
    "\n",
    "# Loop through the video frames\n",
    "with tqdm(total=total_frames, desc=\"Processing frames\") as pbar:\n",
    "    while cap.isOpened():\n",
    "        # Read a frame from the video\n",
    "        success, frame = cap.read()\n",
    "\n",
    "        if success:\n",
    "            frame_count += 1\n",
    "            # Run YOLOv8 inference on the frame\n",
    "            results = model(frame, conf=0.5, verbose=False)\n",
    "\n",
    "            if len(results[0].boxes) > 0:\n",
    "                # Visualize the results on the frame\n",
    "                annotated_frame = results[0].plot()\n",
    "                cv2.imwrite(f'./pothole_frame/frame_{frame_count:04d}.png', frame)\n",
    "                cv2.imwrite(f'./pothole_detected_frame/detected_frame_{frame_count:04d}.png', annotated_frame)\n",
    "                detected_frame_count += 1\n",
    "            \n",
    "            # Display the annotated frame\n",
    "            # cv2.imshow(\"YOLOv8 Inference\", annotated_frame)\n",
    "\n",
    "            # Break the loop if 'q' is pressed\n",
    "            if cv2.waitKey(1) & 0xFF == ord(\"q\"):\n",
    "                break\n",
    "\n",
    "            # Update the progress bar\n",
    "            pbar.update(1)\n",
    "\n",
    "        else:\n",
    "            # Break the loop if the end of the video is reached\n",
    "            break\n",
    "\n",
    "# Release the video capture object and close the display window\n",
    "cap.release()\n",
    "cv2.destroyAllWindows()\n",
    "\n",
    "print(detected_frame_count)"
   ]
  },
  {
   "cell_type": "code",
   "execution_count": 4,
   "metadata": {},
   "outputs": [
    {
     "name": "stderr",
     "output_type": "stream",
     "text": [
      "Processing frames: 100%|██████████| 48806/48806 [20:14<00:00, 40.18it/s] "
     ]
    },
    {
     "name": "stdout",
     "output_type": "stream",
     "text": [
      "8452\n"
     ]
    },
    {
     "name": "stderr",
     "output_type": "stream",
     "text": [
      "\n"
     ]
    }
   ],
   "source": [
    "import cv2\n",
    "from ultralytics import YOLO\n",
    "import os\n",
    "from tqdm import tqdm\n",
    "\n",
    "# Load the YOLOv8 model\n",
    "model = YOLO(\"./best.pt\")\n",
    "\n",
    "# Class names dictionary\n",
    "class_names = {0: 'crosswalk', 1: 'd_crosswalk', 2: 'bump', 3: 'd_bump'}\n",
    "\n",
    "# Create directories for each class\n",
    "output_dir = './detected_frame/'\n",
    "frame_output_dir = './frame/'\n",
    "os.makedirs(output_dir, exist_ok=True)\n",
    "os.makedirs(frame_output_dir, exist_ok=True)\n",
    "for cls in class_names.values():\n",
    "    os.makedirs(os.path.join(output_dir, cls), exist_ok=True)\n",
    "    os.makedirs(os.path.join(frame_output_dir, cls), exist_ok=True)\n",
    "\n",
    "# Open the video file\n",
    "video_path = \"./test_data/bus_single.mp4\"\n",
    "cap = cv2.VideoCapture(video_path)\n",
    "\n",
    "# Get total number of frames in the video\n",
    "total_frames = int(cap.get(cv2.CAP_PROP_FRAME_COUNT))\n",
    "\n",
    "frame_count = 0\n",
    "detected_frame_count = 0\n",
    "\n",
    "# Loop through the video frames with tqdm progress bar\n",
    "with tqdm(total=total_frames, desc=\"Processing frames\") as pbar:\n",
    "    while cap.isOpened():\n",
    "        # Read a frame from the video\n",
    "        success, frame = cap.read()\n",
    "\n",
    "        if success:\n",
    "            frame_count += 1\n",
    "            # Run YOLOv8 inference on the frame\n",
    "            results = model(frame, conf=0.5, verbose=False)\n",
    "\n",
    "            if len(results[0].boxes) > 0:\n",
    "                detected_frame_count += 1\n",
    "                # Create a set to keep track of which classes are detected in this frame\n",
    "                detected_classes = set()\n",
    "                for box in results[0].boxes:\n",
    "                    cls_id = int(box.cls)\n",
    "                    cls_name = class_names.get(cls_id, 'unknown')\n",
    "                    detected_classes.add(cls_name)\n",
    "\n",
    "                # Visualize the results on the frame\n",
    "                annotated_frame = results[0].plot()\n",
    "\n",
    "                # Save the annotated frame in the directory of each detected class\n",
    "                for cls_name in detected_classes:\n",
    "                    output_path = os.path.join(output_dir, cls_name, f\"{cls_name}_frame_{frame_count:04d}.png\")\n",
    "                    frame_output_path = os.path.join(frame_output_dir, cls_name, f\"{cls_name}_frame_{frame_count:04d}.png\")\n",
    "                    cv2.imwrite(output_path, annotated_frame)\n",
    "                    cv2.imwrite(frame_output_path, frame)\n",
    "                \n",
    "            # Update the progress bar\n",
    "            pbar.update(1)\n",
    "\n",
    "            # Display the annotated frame (optional)\n",
    "            # cv2.imshow(\"YOLOv8 Inference\", annotated_frame)\n",
    "\n",
    "            # Break the loop if 'q' is pressed\n",
    "            if cv2.waitKey(1) & 0xFF == ord(\"q\"):\n",
    "                break\n",
    "        else:\n",
    "            # Break the loop if the end of the video is reached\n",
    "            break\n",
    "\n",
    "# Release the video capture object and close the display window\n",
    "cap.release()\n",
    "cv2.destroyAllWindows()\n",
    "\n",
    "print(detected_frame_count)\n"
   ]
  },
  {
   "cell_type": "code",
   "execution_count": null,
   "metadata": {},
   "outputs": [],
   "source": [
    "import cv2\n",
    "from ultralytics import YOLO\n",
    "\n",
    "# Load the YOLOv8 model\n",
    "model = YOLO(\"./best.pt\")\n",
    "\n",
    "# Open the video file\n",
    "video_path = \"./test_data/bus_top.mp4\"\n",
    "cap = cv2.VideoCapture(video_path)\n",
    "frame_count = 0\n",
    "detected_frame_count = 0\n",
    "\n",
    "# Loop through the video frames\n",
    "while cap.isOpened():\n",
    "    # Read a frame from the video\n",
    "    success, frame = cap.read()\n",
    "\n",
    "    if success:\n",
    "        frame_count += 1\n",
    "        # Run YOLOv8 inference on the frame\n",
    "        results = model(frame, conf=0.5)\n",
    "\n",
    "        if len(results[0].boxes) > 0:\n",
    "            # Visualize the results on the frame\n",
    "            annotated_frame = results[0].plot()\n",
    "            cv2.imwrite(f'./detected_frame_top_bus/frame_{frame_count:04d}.png', frame)\n",
    "            cv2.imwrite(f'./detected_frame_top_bus/detected_frame_{frame_count:04d}.png', annotated_frame)\n",
    "            detected_frame_count += 1\n",
    "        \n",
    "        # Display the annotated frame\n",
    "        # cv2.imshow(\"YOLOv8 Inference\", annotated_frame)\n",
    "\n",
    "        # Break the loop if 'q' is pressed\n",
    "        if cv2.waitKey(1) & 0xFF == ord(\"q\"):\n",
    "            break\n",
    "    else:\n",
    "        # Break the loop if the end of the video is reached\n",
    "        break\n",
    "\n",
    "# Release the video capture object and close the display window\n",
    "cap.release()\n",
    "cv2.destroyAllWindows()\n",
    "\n",
    "print(detected_frame_count)"
   ]
  }
 ],
 "metadata": {
  "kernelspec": {
   "display_name": "pss",
   "language": "python",
   "name": "python3"
  },
  "language_info": {
   "codemirror_mode": {
    "name": "ipython",
    "version": 3
   },
   "file_extension": ".py",
   "mimetype": "text/x-python",
   "name": "python",
   "nbconvert_exporter": "python",
   "pygments_lexer": "ipython3",
   "version": "3.10.12"
  }
 },
 "nbformat": 4,
 "nbformat_minor": 2
}
