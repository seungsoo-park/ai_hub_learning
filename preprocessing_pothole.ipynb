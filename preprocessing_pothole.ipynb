{
 "cells": [
  {
   "cell_type": "code",
   "execution_count": 2,
   "metadata": {},
   "outputs": [],
   "source": [
    "import os\n",
    "from pprint import pprint\n",
    "import json\n",
    "from tqdm.notebook import tqdm\n",
    "import shutil\n",
    "from random import shuffle\n",
    "import cv2\n",
    "import numpy as np"
   ]
  },
  {
   "cell_type": "markdown",
   "metadata": {},
   "source": [
    "## 디렉토리 생성"
   ]
  },
  {
   "cell_type": "code",
   "execution_count": 28,
   "metadata": {},
   "outputs": [],
   "source": [
    "image_root = '/home/work/road_mark/data_pothole/train_image/'\n",
    "label_root = '/home/work/road_mark/data_pothole/train_json_label/'\n",
    "preprocessed_image_root = '/home/work/road_mark/preprocessed_data_pothole/images/'\n",
    "preprocessed_label_root = '/home/work/road_mark/preprocessed_data_pothole/labels/'\n",
    "os.makedirs(preprocessed_image_root, exist_ok=True)\n",
    "os.makedirs(preprocessed_label_root, exist_ok=True)\n",
    "\n",
    "dataset_root = '/home/work/road_mark/data/pothole_data/'\n",
    "train_image_root = f'{dataset_root}train/images/'\n",
    "train_label_root = f'{dataset_root}train/labels/'\n",
    "valid_image_root = f'{dataset_root}valid/images/'\n",
    "valid_label_root = f'{dataset_root}valid/labels/'\n",
    "test_image_root = f'{dataset_root}test/images/'\n",
    "test_label_root = f'{dataset_root}test/labels/'\n",
    "os.makedirs(train_image_root, exist_ok=True)\n",
    "os.makedirs(train_label_root, exist_ok=True)\n",
    "os.makedirs(valid_image_root, exist_ok=True)\n",
    "os.makedirs(valid_label_root, exist_ok=True)\n",
    "os.makedirs(test_image_root, exist_ok=True)\n",
    "os.makedirs(test_label_root, exist_ok=True)"
   ]
  },
  {
   "cell_type": "markdown",
   "metadata": {},
   "source": [
    "## 데이터 통계"
   ]
  },
  {
   "cell_type": "code",
   "execution_count": 30,
   "metadata": {},
   "outputs": [
    {
     "data": {
      "application/vnd.jupyter.widget-view+json": {
       "model_id": "953c24c9dde54340a5d7fd36596f410e",
       "version_major": 2,
       "version_minor": 0
      },
      "text/plain": [
       "  0%|          | 0/140000 [00:00<?, ?it/s]"
      ]
     },
     "metadata": {},
     "output_type": "display_data"
    },
    {
     "name": "stdout",
     "output_type": "stream",
     "text": [
      "(포트홀 이미지 개수) 139235\n",
      "(포트홀 라벨 개수) 625577\n"
     ]
    }
   ],
   "source": [
    "count = 0\n",
    "pothole_file_path_list = []\n",
    "for file_name in tqdm(os.listdir(label_root)):\n",
    "    file_path = os.path.join(label_root, file_name)\n",
    "    with open(file_path, 'r', encoding='utf-8') as fp:\n",
    "        data = json.load(fp)\n",
    "    for annotation in data['annotations']:\n",
    "        if annotation['category_id'] == 1:\n",
    "            pothole_file_path_list.append(file_path)\n",
    "            count += 1\n",
    "\n",
    "unique_file_path_list = list(set(pothole_file_path_list))\n",
    "unique_file_path_list.sort()\n",
    "print(f'(포트홀 이미지 개수) {len(unique_file_path_list)}')\n",
    "print(f'(포트홀 라벨 개수) {count}')"
   ]
  },
  {
   "cell_type": "markdown",
   "metadata": {},
   "source": [
    "## 포트홀 라벨링 데이터 추출 및 복사"
   ]
  },
  {
   "cell_type": "code",
   "execution_count": 15,
   "metadata": {},
   "outputs": [
    {
     "data": {
      "application/vnd.jupyter.widget-view+json": {
       "model_id": "09e79d082cbd4959bc8151a9ff5e0bda",
       "version_major": 2,
       "version_minor": 0
      },
      "text/plain": [
       "  0%|          | 0/13015 [00:00<?, ?it/s]"
      ]
     },
     "metadata": {},
     "output_type": "display_data"
    }
   ],
   "source": [
    "for file_path in tqdm(unique_file_path_list):\n",
    "    shutil.copyfile(file_path, file_path.replace('train_json_label', 'train_pot_json_label'))\n",
    "    shutil.copyfile(file_path.replace('json_label', 'image').replace('json', 'jpg'), file_path.replace('json_label', 'pot_image').replace('json', 'jpg'))"
   ]
  },
  {
   "cell_type": "markdown",
   "metadata": {},
   "source": [
    "## 데이터 확인"
   ]
  },
  {
   "cell_type": "markdown",
   "metadata": {},
   "source": [
    "### 데이터 통계"
   ]
  },
  {
   "cell_type": "code",
   "execution_count": 20,
   "metadata": {},
   "outputs": [
    {
     "data": {
      "application/vnd.jupyter.widget-view+json": {
       "model_id": "c83ed8627d524b31b07dc993addd84b0",
       "version_major": 2,
       "version_minor": 0
      },
      "text/plain": [
       "  0%|          | 0/13015 [00:00<?, ?it/s]"
      ]
     },
     "metadata": {},
     "output_type": "display_data"
    },
    {
     "name": "stdout",
     "output_type": "stream",
     "text": [
      "(포트홀 이미지 개수) 13015\n",
      "(포트홀 라벨 개수) 42075\n"
     ]
    }
   ],
   "source": [
    "label_root = '/home/work/road_mark/data_pothole/train_pot_json_label/'\n",
    "image_root = '/home/work/road_mark/data_pothole/train_pot_image/'\n",
    "\n",
    "img_count = 0\n",
    "label_count = 0\n",
    "for file_name in tqdm(os.listdir(label_root)):\n",
    "    with open(f'{label_root}{file_name}', 'r') as fp:\n",
    "        data = json.load(fp)\n",
    "    img_count += 1\n",
    "    for annotation in data['annotations']:\n",
    "        if annotation['category_id'] == 2:\n",
    "            label_count += 1\n",
    "\n",
    "print(f'(포트홀 이미지 개수) {img_count}')\n",
    "print(f'(포트홀 라벨 개수) {label_count}')"
   ]
  },
  {
   "cell_type": "markdown",
   "metadata": {},
   "source": [
    "### 이미지 상에 라벨 표시 및 확인"
   ]
  },
  {
   "cell_type": "code",
   "execution_count": 17,
   "metadata": {},
   "outputs": [
    {
     "data": {
      "application/vnd.jupyter.widget-view+json": {
       "model_id": "547305526ee24910adef451d73c4c94f",
       "version_major": 2,
       "version_minor": 0
      },
      "text/plain": [
       "  0%|          | 0/10 [00:00<?, ?it/s]"
      ]
     },
     "metadata": {},
     "output_type": "display_data"
    }
   ],
   "source": [
    "label_root = '/home/work/road_mark/data_pothole/train_pot_json_label/'\n",
    "image_root = '/home/work/road_mark/data_pothole/train_pot_image/'\n",
    "output_root = '/home/work/road_mark/data_pothole/train_pot_draw_image/'\n",
    "\n",
    "label_name_list = os.listdir(label_root)\n",
    "for file_name in tqdm(label_name_list[:10]):\n",
    "    with open(f'{label_root}{file_name}', 'r') as fp:\n",
    "        data = json.load(fp)\n",
    "    \n",
    "    image_file_name = file_name.replace('.json', '.jpg')\n",
    "    image_path = os.path.join(image_root, image_file_name)\n",
    "    image = cv2.imread(image_path)\n",
    "    \n",
    "    if image is None:\n",
    "        print(f\"Image {image_file_name} not found.\")\n",
    "        continue\n",
    "    \n",
    "    for annotation in data['annotations']:\n",
    "        if annotation['category_id'] == 2:\n",
    "            segmentation = annotation['segmentation'][0]\n",
    "            x, y, w, h = segmentation\n",
    "            start_point = (int(x), int(y))\n",
    "            end_point = (int(x + w), int(y + h))\n",
    "            color = (0, 255, 0)  # Green color\n",
    "            thickness = 2\n",
    "            image = cv2.rectangle(image, start_point, end_point, color, thickness)\n",
    "\n",
    "    output_path = os.path.join(output_root, image_file_name)\n",
    "    \n",
    "    cv2.imwrite(output_path, image)"
   ]
  },
  {
   "cell_type": "markdown",
   "metadata": {},
   "source": [
    "## 데이터 전처리"
   ]
  },
  {
   "cell_type": "markdown",
   "metadata": {},
   "source": [
    "### BBOX 좌표 YOLO 포맷으로 변환"
   ]
  },
  {
   "cell_type": "code",
   "execution_count": 18,
   "metadata": {},
   "outputs": [],
   "source": [
    "def convert_to_yolo_format(bbox, image_width, image_height):\n",
    "    yolo_bboxes = []\n",
    "    x_min, y_min, box_width, box_height = bbox\n",
    "    x_center = (x_min + box_width / 2) / image_width\n",
    "    y_center = (y_min + box_height / 2) / image_height\n",
    "    norm_width = box_width / image_width\n",
    "    norm_height = box_height / image_height\n",
    "    yolo_bboxes = [0, x_center, y_center, norm_width, norm_height]\n",
    "    \n",
    "    return yolo_bboxes"
   ]
  },
  {
   "cell_type": "code",
   "execution_count": 21,
   "metadata": {},
   "outputs": [
    {
     "data": {
      "application/vnd.jupyter.widget-view+json": {
       "model_id": "faa3cf60d20449d8bff2eba291d7506d",
       "version_major": 2,
       "version_minor": 0
      },
      "text/plain": [
       "  0%|          | 0/13015 [00:00<?, ?it/s]"
      ]
     },
     "metadata": {},
     "output_type": "display_data"
    }
   ],
   "source": [
    "label_name_list = os.listdir(label_root)\n",
    "label_name_list.sort()\n",
    "\n",
    "for json_file_name in tqdm(label_name_list):\n",
    "    with open(f'{label_root}{json_file_name}', 'r') as fp:\n",
    "        data = json.load(fp)\n",
    "    \n",
    "    image_width = data['images'][0]['width']\n",
    "    image_height = data['images'][0]['height']\n",
    "    image_file_name = json_file_name.replace('.json', '.jpg')\n",
    "    image_path = os.path.join(image_root, image_file_name)\n",
    "    preprocessed_image_path = os.path.join(preprocessed_image_root, image_file_name)\n",
    "    preprocessed_label_path = os.path.join(preprocessed_label_root, json_file_name.replace('.json', '.txt'))\n",
    "    \n",
    "    if image is None:\n",
    "        print(f\"Image {image_file_name} not found.\")\n",
    "        continue\n",
    "\n",
    "    shutil.copyfile(image_path, preprocessed_image_path)\n",
    "\n",
    "    yolo_label_list = []\n",
    "    for annotation in data['annotations']:\n",
    "        if annotation['category_id'] == 2:\n",
    "            bbox = annotation['segmentation'][0]\n",
    "            yolo_label = convert_to_yolo_format(bbox, image_width, image_height)\n",
    "            yolo_label_list.append(yolo_label)\n",
    "\n",
    "    with open(preprocessed_label_path, 'w') as fp:\n",
    "        for val in yolo_label_list:\n",
    "            input_data = list(map(str, val))\n",
    "            fp.write(' '.join(input_data) + '\\n')"
   ]
  },
  {
   "cell_type": "markdown",
   "metadata": {},
   "source": [
    "### 데이터 분리"
   ]
  },
  {
   "cell_type": "code",
   "execution_count": 25,
   "metadata": {},
   "outputs": [],
   "source": [
    "def split_list(lst, train_ratio=0.8, val_ratio=0.1, test_ratio=0.1):\n",
    "    n = len(lst)\n",
    "    train_end = int(n * train_ratio)\n",
    "    val_end = train_end + int(n * val_ratio)\n",
    "    \n",
    "    train_list = lst[:10000]\n",
    "    val_list = lst[10000:11000]\n",
    "    test_list = lst[11000:12000]\n",
    "    \n",
    "    return train_list, val_list, test_list"
   ]
  },
  {
   "cell_type": "code",
   "execution_count": 26,
   "metadata": {},
   "outputs": [
    {
     "data": {
      "application/vnd.jupyter.widget-view+json": {
       "model_id": "c84c31cd6e5641068972914f77590cef",
       "version_major": 2,
       "version_minor": 0
      },
      "text/plain": [
       "  0%|          | 0/10000 [00:00<?, ?it/s]"
      ]
     },
     "metadata": {},
     "output_type": "display_data"
    },
    {
     "data": {
      "application/vnd.jupyter.widget-view+json": {
       "model_id": "c3b0d4c6e9be4734a3507ce9e162f5ed",
       "version_major": 2,
       "version_minor": 0
      },
      "text/plain": [
       "  0%|          | 0/1000 [00:00<?, ?it/s]"
      ]
     },
     "metadata": {},
     "output_type": "display_data"
    },
    {
     "data": {
      "application/vnd.jupyter.widget-view+json": {
       "model_id": "ca605d7b03be4cdaa5b3b26a2b1f8bc1",
       "version_major": 2,
       "version_minor": 0
      },
      "text/plain": [
       "  0%|          | 0/1000 [00:00<?, ?it/s]"
      ]
     },
     "metadata": {},
     "output_type": "display_data"
    }
   ],
   "source": [
    "label_root = '/home/work/road_mark/preprocessed_data_pothole/labels/'\n",
    "image_root = '/home/work/road_mark/preprocessed_data_pothole/images/'\n",
    "\n",
    "label_name_list = os.listdir(label_root)\n",
    "shuffle(label_name_list)\n",
    "\n",
    "train_label_name_list, valid_label_name_list, test_label_name_list = split_list(label_name_list)\n",
    "\n",
    "for label_file_name in tqdm(train_label_name_list):\n",
    "    image_file_name = label_file_name.replace('.txt', '.jpg')\n",
    "\n",
    "    label_path = os.path.join(label_root, label_file_name)\n",
    "    image_path = os.path.join(image_root, image_file_name)\n",
    "\n",
    "    ouput_label_path = os.path.join(train_label_root, label_file_name)\n",
    "    ouput_image_path = os.path.join(train_image_root, image_file_name)\n",
    "\n",
    "    shutil.copyfile(label_path, ouput_label_path)\n",
    "    shutil.copyfile(image_path, ouput_image_path)\n",
    "\n",
    "for label_file_name in tqdm(valid_label_name_list):\n",
    "    image_file_name = label_file_name.replace('.txt', '.jpg')\n",
    "\n",
    "    label_path = os.path.join(label_root, label_file_name)\n",
    "    image_path = os.path.join(image_root, image_file_name)\n",
    "\n",
    "    ouput_label_path = os.path.join(valid_label_root, label_file_name)\n",
    "    ouput_image_path = os.path.join(valid_image_root, image_file_name)\n",
    "\n",
    "    shutil.copyfile(label_path, ouput_label_path)\n",
    "    shutil.copyfile(image_path, ouput_image_path)\n",
    "\n",
    "for label_file_name in tqdm(test_label_name_list):\n",
    "    image_file_name = label_file_name.replace('.txt', '.jpg')\n",
    "\n",
    "    label_path = os.path.join(label_root, label_file_name)\n",
    "    image_path = os.path.join(image_root, image_file_name)\n",
    "\n",
    "    ouput_label_path = os.path.join(test_label_root, label_file_name)\n",
    "    ouput_image_path = os.path.join(test_image_root, image_file_name)\n",
    "\n",
    "    shutil.copyfile(label_path, ouput_label_path)\n",
    "    shutil.copyfile(image_path, ouput_image_path)"
   ]
  }
 ],
 "metadata": {
  "kernelspec": {
   "display_name": "Python 3",
   "language": "python",
   "name": "python3"
  },
  "language_info": {
   "codemirror_mode": {
    "name": "ipython",
    "version": 3
   },
   "file_extension": ".py",
   "mimetype": "text/x-python",
   "name": "python",
   "nbconvert_exporter": "python",
   "pygments_lexer": "ipython3",
   "version": "3.10.12"
  },
  "orig_nbformat": 4
 },
 "nbformat": 4,
 "nbformat_minor": 2
}
